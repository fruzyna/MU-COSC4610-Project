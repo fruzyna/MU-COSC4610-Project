{
 "cells": [
  {
   "cell_type": "code",
   "execution_count": null,
   "metadata": {},
   "outputs": [],
   "source": [
    "# COSC 4610 Final Project\n",
    "import pandas as pd\n",
    "import matplotlib.pyplot as pyplt\n",
    "get_ipython().run_line_magic('matplotlib', 'inline')"
   ]
  },
  {
   "cell_type": "code",
   "execution_count": null,
   "metadata": {},
   "outputs": [],
   "source": [
    "# Read in liquor sales dataset (go make some coffee)\n",
    "liquor = pd.read_csv('data/Iowa_Liquor_Sales.csv', parse_dates=True, index_col='Invoice/Item Number').sort_values('Date')"
   ]
  },
  {
   "cell_type": "code",
   "execution_count": null,
   "metadata": {},
   "outputs": [],
   "source": [
    "# Makes all county names uniform (all caps, no \"COUNTY\")\n",
    "def correctCounty(county):\n",
    "    if isinstance(county, str):\n",
    "        return county.upper().replace(' COUNTY', '')\n",
    "    return str(county)"
   ]
  },
  {
   "cell_type": "code",
   "execution_count": null,
   "metadata": {},
   "outputs": [],
   "source": [
    "# Trim unnecessary rows\n",
    "liquor = liquor.drop('Address', axis=1)\n",
    "liquor = liquor.drop('City', axis=1)\n",
    "liquor = liquor.drop('Zip Code', axis=1)\n",
    "liquor = liquor.drop('County Number', axis=1)\n",
    "liquor = liquor.drop('Volume Sold (Gallons)', axis=1)\n",
    "liquor = liquor.drop('Pack', axis=1)\n",
    "# Make county names uniform\n",
    "liquor['County'] = liquor['County'].apply(correctCounty)\n",
    "# Remove dollar signs\n",
    "liquor['Sale (Dollars)'] = liquor['Sale (Dollars)'].str[1:]\n",
    "liquor['Sale (Dollars)'] = liquor['Sale (Dollars)'].astype(float)\n",
    "liquor['State Bottle Cost'] = liquor['State Bottle Cost'].str[1:]\n",
    "liquor['State Bottle Cost'] = liquor['State Bottle Cost'].astype(float)\n",
    "liquor['State Bottle Retail'] = liquor['State Bottle Retail'].str[1:]\n",
    "liquor['State Bottle Retail'] = liquor['State Bottle Retail'].astype(float)"
   ]
  },
  {
   "cell_type": "code",
   "execution_count": null,
   "metadata": {},
   "outputs": [],
   "source": [
    "earliest = liquor['Date'].min().split('/')\n",
    "latest = liquor['Date'].max().split('/')\n",
    "from datetime import date\n",
    "earliest = date(int(earliest[2]), int(earliest[0]), int(earliest[1]))\n",
    "latest = date(int(latest[2]), int(latest[0]), int(latest[1]))\n",
    "delta = (latest - earliest).days / 365\n",
    "dateRange = str(earliest.strftime('%m/%d/%Y')) + ' to ' + str(latest.strftime('%m/%d/%Y'))\n",
    "delta"
   ]
  },
  {
   "cell_type": "code",
   "execution_count": null,
   "metadata": {},
   "outputs": [],
   "source": [
    "liquor"
   ]
  },
  {
   "cell_type": "code",
   "execution_count": null,
   "metadata": {},
   "outputs": [],
   "source": [
    "# Read in poverty dataset and trim to median incomes by county\n",
    "poverty = pd.read_csv('data/est16-ia.csv')\n",
    "poverty['County'] = poverty['County'].apply(correctCounty)\n",
    "poverty = poverty.set_index('County')\n",
    "income = poverty['Median_Household_Income'].sort_values(ascending=False)\n",
    "#income"
   ]
  },
  {
   "cell_type": "code",
   "execution_count": null,
   "metadata": {},
   "outputs": [],
   "source": [
    "# Plot median household income by county\n",
    "income.plot(kind='bar', figsize=(15,7))"
   ]
  },
  {
   "cell_type": "code",
   "execution_count": null,
   "metadata": {},
   "outputs": [],
   "source": [
    "# The liquor sales have fake? counties, find them\n",
    "overlap = liquor['County'].isin(income.index)\n",
    "overlap.value_counts()"
   ]
  },
  {
   "cell_type": "code",
   "execution_count": null,
   "metadata": {},
   "outputs": [],
   "source": [
    "# Remove \"fake\" counties\n",
    "liquor = liquor[overlap]\n",
    "liquor['County'].isin(income.index).value_counts()"
   ]
  },
  {
   "cell_type": "code",
   "execution_count": null,
   "metadata": {},
   "outputs": [],
   "source": [
    "# Count sales by county\n",
    "pd.set_option(\"max_rows\",105)\n",
    "countySales = liquor['County'].value_counts()\n",
    "\n",
    "# Plot that\n",
    "title = 'Total Sales by County ' + dateRange\n",
    "plot = countySales.plot(kind='bar', figsize=(15,7), title=title)\n",
    "plot.set_xlabel('County')\n",
    "plot.set_ylabel('Liquor Sales')"
   ]
  },
  {
   "cell_type": "code",
   "execution_count": null,
   "metadata": {},
   "outputs": [],
   "source": [
    "# Estimate populations by county\n",
    "populations = (poverty['People_of_All_Ages_in_Poverty'] * 100 / poverty['Percent_of_People_of_All_Ages_in_Poverty']).astype(int).sort_values(ascending=False)\n",
    "#populations"
   ]
  },
  {
   "cell_type": "code",
   "execution_count": null,
   "metadata": {},
   "outputs": [],
   "source": [
    "# Calculate and plot liquor sales per capita per year\n",
    "salesPerCapita = (countySales / populations).sort_values(ascending=False)\n",
    "salesPerCapita = salesPerCapita.divide(delta)\n",
    "title = 'Avg Annual Per Capita Sales by County ' + dateRange\n",
    "plot = salesPerCapita.plot(kind='bar', figsize=(15,7), title=title)\n",
    "plot.set_xlabel('County')\n",
    "plot.set_ylabel('Liquor Sales')"
   ]
  },
  {
   "cell_type": "code",
   "execution_count": null,
   "metadata": {},
   "outputs": [],
   "source": [
    "# Get the total volume sold by county\n",
    "def getCountyVolume(county):\n",
    "    return liquor.loc[liquor['County'] == county, 'Volume Sold (Liters)'].sum()\n",
    "\n",
    "countyVolumes = pd.Series()\n",
    "for county in income.index:\n",
    "    countyVolumes = countyVolumes.set_value(county, getCountyVolume(county))\n",
    "\n",
    "countyVolumes = countyVolumes.sort_values(ascending=False)"
   ]
  },
  {
   "cell_type": "code",
   "execution_count": null,
   "metadata": {},
   "outputs": [],
   "source": [
    "# Plot volume per capita by county per year\n",
    "volumePerCapita = (countyVolumes / populations).sort_values(ascending=False)\n",
    "volumePerCapita = volumePerCapita.divide(delta)\n",
    "title = 'Avg Annual Per Capita Volume Sold by County ' + dateRange\n",
    "plot = volumePerCapita.plot(kind='bar', figsize=(15,7), title=title)\n",
    "plot.set_xlabel('County')\n",
    "plot.set_ylabel('Liquor Volume (L)')"
   ]
  },
  {
   "cell_type": "code",
   "execution_count": null,
   "metadata": {},
   "outputs": [],
   "source": [
    "# Get the total spent by county\n",
    "def getCountySpent(county):\n",
    "    return liquor.loc[liquor['County'] == county, 'Sale (Dollars)'].sum()\n",
    "\n",
    "countySpent = pd.Series()\n",
    "for county in income.index:\n",
    "    countySpent = countySpent.set_value(county, getCountySpent(county))\n",
    "\n",
    "countySpent = countySpent.sort_values(ascending=False)"
   ]
  },
  {
   "cell_type": "code",
   "execution_count": null,
   "metadata": {},
   "outputs": [],
   "source": [
    "# Plot total spent per capita by county per year\n",
    "spentPerLiter = (countySpent / countyVolumes).sort_values(ascending=False)\n",
    "title = 'Avg Cost Per Liter by County ' + dateRange\n",
    "plot = spentPerLiter.plot(kind='bar', figsize=(15,7), title=title)\n",
    "plot.set_xlabel('County')\n",
    "plot.set_ylabel('Dollars Spent')"
   ]
  },
  {
   "cell_type": "code",
   "execution_count": null,
   "metadata": {},
   "outputs": [],
   "source": [
    "# Volume per sale by county, these numbers seem fishy\n",
    "volumePerSale = (countyVolumes / countySales).sort_values(ascending=False)\n",
    "title = 'Avg Volume Per Sale by County ' + dateRange\n",
    "plot = volumePerSale.plot(kind='bar', figsize=(15,7), title=title)\n",
    "plot.set_xlabel('County')\n",
    "plot.set_ylabel('Liquor Volume (L)')"
   ]
  },
  {
   "cell_type": "code",
   "execution_count": null,
   "metadata": {},
   "outputs": [],
   "source": [
    "# This is a waste of time for now\n",
    "# Get the median income of a county by name\n",
    "#def getIncome(county):\n",
    "#    return income.loc[county]\n",
    "\n",
    "# Apply the income of the county to each sale\n",
    "#liquor['Median Household Income'] = liquor['County'].apply(getIncome)"
   ]
  },
  {
   "cell_type": "code",
   "execution_count": null,
   "metadata": {},
   "outputs": [],
   "source": [
    "# Plot sales and income\n",
    "salesIncome = pd.concat([salesPerCapita, income], axis=1)\n",
    "salesIncome.columns = ['Sales Per Capita', 'Median Household Income']\n",
    "salesIncome.plot(kind='scatter', y='Sales Per Capita', x='Median Household Income', title='Median Household Income vs Liquor Sales Per Capita by County')"
   ]
  },
  {
   "cell_type": "code",
   "execution_count": null,
   "metadata": {},
   "outputs": [],
   "source": [
    "# Plot volume and income\n",
    "volumeIncome = pd.concat([volumePerCapita, income], axis=1)\n",
    "volumeIncome.columns = ['Volume Per Capita', 'Median Household Income']\n",
    "volumeIncome.plot(kind='scatter', y='Volume Per Capita', x='Median Household Income', title='Median Household Income vs Liquor Volume Per Capita by County')"
   ]
  },
  {
   "cell_type": "code",
   "execution_count": null,
   "metadata": {},
   "outputs": [],
   "source": [
    "# Plot sale size and income\n",
    "sizeIncome = pd.concat([volumePerSale, income], axis=1)\n",
    "sizeIncome.columns = ['Volume Per Sale', 'Median Household Income']\n",
    "sizeIncome.plot(kind='scatter', y='Volume Per Sale', x='Median Household Income', title='Median Household Income vs Volume Per Sale by County')"
   ]
  },
  {
   "cell_type": "code",
   "execution_count": null,
   "metadata": {},
   "outputs": [],
   "source": [
    "# Plot cost per liter and income\n",
    "costIncome = pd.concat([spentPerLiter, income], axis=1)\n",
    "costIncome.columns = ['Cost Per Liter', 'Median Household Income']\n",
    "costIncome.plot(kind='scatter', y='Cost Per Liter', x='Median Household Income', title='Median Household Income vs Cost Per Liter by County')"
   ]
  },
  {
   "cell_type": "code",
   "execution_count": null,
   "metadata": {},
   "outputs": [],
   "source": [
    "# Plot cpst per liter and sales\n",
    "costSales = pd.concat([spentPerLiter, salesPerCapita], axis=1)\n",
    "costSales.columns = ['Cost Per Liter', 'Sales Per Capita']\n",
    "costSales.plot(kind='scatter', y='Cost Per Liter', x='Sales Per Capita', title='Sales Per Capita vs Cost Per Liter by County')\n",
    "\n"
   ]
  }
 ],
 "metadata": {},
 "nbformat": 4,
 "nbformat_minor": 2
}
